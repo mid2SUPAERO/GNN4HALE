{
 "cells": [
  {
   "cell_type": "code",
   "execution_count": 1,
   "metadata": {},
   "outputs": [
    {
     "ename": "ModuleNotFoundError",
     "evalue": "No module named 'sharpy'",
     "output_type": "error",
     "traceback": [
      "\u001b[0;31m---------------------------------------------------------------------------\u001b[0m",
      "\u001b[0;31mModuleNotFoundError\u001b[0m                       Traceback (most recent call last)",
      "\u001b[0;32m/tmp/ipykernel_44039/3481788485.py\u001b[0m in \u001b[0;36m<module>\u001b[0;34m\u001b[0m\n\u001b[1;32m      1\u001b[0m \u001b[0;32mimport\u001b[0m \u001b[0mos\u001b[0m\u001b[0;34m\u001b[0m\u001b[0;34m\u001b[0m\u001b[0m\n\u001b[1;32m      2\u001b[0m \u001b[0;32mimport\u001b[0m \u001b[0mnumpy\u001b[0m \u001b[0;32mas\u001b[0m \u001b[0mnp\u001b[0m\u001b[0;34m\u001b[0m\u001b[0;34m\u001b[0m\u001b[0m\n\u001b[0;32m----> 3\u001b[0;31m \u001b[0;32mimport\u001b[0m \u001b[0msharpy\u001b[0m\u001b[0;34m\u001b[0m\u001b[0;34m\u001b[0m\u001b[0m\n\u001b[0m\u001b[1;32m      4\u001b[0m \u001b[0;32mfrom\u001b[0m \u001b[0msharpy\u001b[0m\u001b[0;34m.\u001b[0m\u001b[0mutils\u001b[0m\u001b[0;34m.\u001b[0m\u001b[0mh5utils\u001b[0m \u001b[0;32mimport\u001b[0m \u001b[0mreadh5\u001b[0m\u001b[0;34m,\u001b[0m\u001b[0mload_h5_in_dict\u001b[0m\u001b[0;34m\u001b[0m\u001b[0;34m\u001b[0m\u001b[0m\n\u001b[1;32m      5\u001b[0m \u001b[0;32mimport\u001b[0m \u001b[0mpandas\u001b[0m \u001b[0;32mas\u001b[0m \u001b[0mpd\u001b[0m\u001b[0;34m\u001b[0m\u001b[0;34m\u001b[0m\u001b[0m\n",
      "\u001b[0;31mModuleNotFoundError\u001b[0m: No module named 'sharpy'"
     ]
    }
   ],
   "source": [
    "import os\n",
    "import numpy as np\n",
    "import sharpy\n",
    "from sharpy.utils.h5utils import readh5,load_h5_in_dict\n",
    "import pandas as pd\n",
    "import matplotlib.pyplot as plt\n",
    "data = readh5('/home/dmsm/m.colombo/Documents/HALE_50_2st2m_L_i0_206l1_052.data.h5')\n"
   ]
  },
  {
   "cell_type": "code",
   "execution_count": 80,
   "metadata": {},
   "outputs": [
    {
     "data": {
      "image/png": "[encoded data removed]",
      "text/plain": [
       "<Figure size 640x480 with 1 Axes>"
      ]
     },
     "metadata": {},
     "output_type": "display_data"
    }
   ],
   "source": [
    "for t in range(len(data.data.structure.timestep_info)):\n",
    "    plt.plot(t,data.data.structure.timestep_info[t].quat[0],'b.',markersize=4)\n",
    "    #plt.plot(t,data.data.structure.timestep_info[t].quat[2],'b.',markersize=4)\n",
    "    #plt.plot(t,data.data.structure.timestep_info[t].mb_FoR_pos[0][0],'k.',markersize=4)\n",
    "    plt.plot(t,data.data.structure.timestep_info[t].q[-8],'ro',markersize=4)\n",
    "    #plt.plot(t,data.data.structure.timestep_info[t].q[-2],'ro',markersize=4)"
   ]
  },
  {
   "cell_type": "code",
   "execution_count": 42,
   "metadata": {},
   "outputs": [
    {
     "data": {
      "text/plain": [
       "dict_keys(['_name', 'dqddt', 'dqdt', 'for_acc', 'for_pos', 'for_vel', 'forces_constraints_FoR', 'forces_constraints_nodes', 'gravity_forces', 'in_global_AFoR', 'mb_FoR_acc', 'mb_FoR_pos', 'mb_FoR_vel', 'mb_dict', 'mb_dquatdt', 'mb_quat', 'modal', 'num_elem', 'num_node', 'num_node_elem', 'pos', 'pos_ddot', 'pos_dot', 'postproc_cell', 'postproc_node', 'psi', 'psi_ddot', 'psi_dot', 'q', 'quat', 'runtime_generated_forces', 'steady_applied_forces', 'total_forces', 'total_gravity_forces', 'unsteady_applied_forces'])"
      ]
     },
     "execution_count": 42,
     "metadata": {},
     "output_type": "execute_result"
    }
   ],
   "source": [
    "data.data.structure.timestep_info[0].__dict__.keys()"
   ]
  },
  {
   "cell_type": "code",
   "execution_count": 69,
   "metadata": {},
   "outputs": [
    {
     "data": {
      "text/plain": [
       "array([ 9.99122213e-01, -1.51729619e-10,  4.18903860e-02, -3.39405083e-10])"
      ]
     },
     "execution_count": 69,
     "metadata": {},
     "output_type": "execute_result"
    }
   ],
   "source": [
    "data.data.structure.timestep_info[20].quat\n"
   ]
  },
  {
   "cell_type": "code",
   "execution_count": 59,
   "metadata": {},
   "outputs": [
    {
     "ename": "SyntaxError",
     "evalue": "invalid syntax (3576953739.py, line 1)",
     "output_type": "error",
     "traceback": [
      "\u001b[0;36m  File \u001b[0;32m\"/tmp/ipykernel_41833/3576953739.py\"\u001b[0;36m, line \u001b[0;32m1\u001b[0m\n\u001b[0;31m    =33*6\u001b[0m\n\u001b[0m    ^\u001b[0m\n\u001b[0;31mSyntaxError\u001b[0m\u001b[0;31m:\u001b[0m invalid syntax\n"
     ]
    }
   ],
   "source": []
  },
  {
   "cell_type": "code",
   "execution_count": 61,
   "metadata": {},
   "outputs": [
    {
     "data": {
      "text/plain": [
       "202"
      ]
     },
     "execution_count": 61,
     "metadata": {},
     "output_type": "execute_result"
    }
   ],
   "source": [
    "32*6+10"
   ]
  },
  {
   "cell_type": "code",
   "execution_count": null,
   "metadata": {},
   "outputs": [],
   "source": []
  }
 ],
 "metadata": {
  "kernelspec": {
   "display_name": "Python 3.7.5 ('sharpy_env')",
   "language": "python",
   "name": "python3"
  },
  "language_info": {
   "codemirror_mode": {
    "name": "ipython",
    "version": 3
   },
   "file_extension": ".py",
   "mimetype": "text/x-python",
   "name": "python",
   "nbconvert_exporter": "python",
   "pygments_lexer": "ipython3",
   "version": "3.7.5"
  },
  "orig_nbformat": 4,
  "vscode": {
   "interpreter": {
    "hash": "f2df0da78361f65f9ebfcecf02bece946f8a42fd7b460b3c02cd3dc00afa8d93"
   }
  }
 },
 "nbformat": 4,
 "nbformat_minor": 2
}
